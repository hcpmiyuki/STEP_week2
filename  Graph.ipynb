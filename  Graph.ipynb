{
 "cells": [
  {
   "cell_type": "code",
   "execution_count": 3,
   "metadata": {},
   "outputs": [
    {
     "name": "stdout",
     "output_type": "stream",
     "text": [
      "N>3\n",
      "[[3. 3. 3.]\n",
      " [3. 3. 3.]\n",
      " [3. 3. 3.]]\n",
      "[[3. 3. 3.]\n",
      " [3. 3. 3.]\n",
      " [3. 3. 3.]]\n"
     ]
    }
   ],
   "source": [
    "import numpy\n",
    "\n",
    "# 計算正しいか確かめ\n",
    "n = int(input(\"N>\"))\n",
    "a = numpy.ones((n, n)) # Matrix A\n",
    "b = numpy.ones((n, n)) # Matrix B\n",
    "c = numpy.ones((n, n)) # Matrix C\n",
    "\n",
    "for i in range(n):\n",
    "    for j in range(n):\n",
    "        c[i][j] = 0\n",
    "        for k in range(n):\n",
    "            c[i][j] +=  a[i][k]*b[k][j]\n",
    "\n",
    "print(c)\n",
    "print(numpy.dot(a, b))"
   ]
  },
  {
   "cell_type": "code",
   "execution_count": 8,
   "metadata": {},
   "outputs": [
    {
     "name": "stdout",
     "output_type": "stream",
     "text": [
      "time: 0.000006 sec\n",
      "time: 0.000021 sec\n",
      "time: 0.000109 sec\n",
      "time: 0.000792 sec\n",
      "time: 0.003966 sec\n",
      "time: 0.032494 sec\n",
      "time: 0.228401 sec\n",
      "time: 1.667364 sec\n",
      "time: 13.468392 sec\n",
      "time: 110.214733 sec\n",
      "time: 898.934824 sec\n"
     ]
    }
   ],
   "source": [
    "import numpy, sys, time\n",
    "import pickle\n",
    "\n",
    "def timeToCalculate(n):\n",
    "    a = numpy.zeros((n, n)) # Matrix A\n",
    "    b = numpy.zeros((n, n)) # Matrix B\n",
    "    c = numpy.zeros((n, n)) # Matrix C\n",
    "\n",
    "    # Initialize the matrices to some values.\n",
    "    for i in range(n):\n",
    "        for j in range(n):\n",
    "            a[i, j] = i * n + j\n",
    "            b[i, j] = j * n + i\n",
    "            c[i, j] = 0\n",
    "\n",
    "    begin = time.time()\n",
    "\n",
    "    ######################################################\n",
    "    # Write code to calculate C = A * B                  #\n",
    "    # (without using numpy librarlies e.g., numpy.dot()) #\n",
    "    for i in range(n):\n",
    "        for j in range(n):\n",
    "            c[i][j] = 0\n",
    "            for k in range(n):\n",
    "                c[i][j] +=  a[i][k]*b[k][j]\n",
    "    ######################################################\n",
    "\n",
    "    end = time.time()\n",
    "    print(\"time: %.6f sec\" % (end - begin))\n",
    "    return (end - begin)\n",
    "\n",
    "    # Print C for debugging. Comment out the print before measuring the execution time.\n",
    "#     total = 0\n",
    "#     for i in range(n):\n",
    "#         for j in range(n):\n",
    "#             # print c[i, j]\n",
    "#             total += c[i, j]\n",
    "    # Print out the sum of all values in C.\n",
    "    # This should be 450 for N=3, 3680 for N=4, and 18250 for N=5.\n",
    "#     print(\"sum: %.6f\" % total)\n",
    "\n",
    "# 2**x ( 0<=x<=10)のサイズの行列を計算\n",
    "n = 2\n",
    "results = []\n",
    "for i in range(11):\n",
    "    t = timeToCalculate(n**i)\n",
    "    results.append(t)\n",
    "\n",
    "pickle.dump(results, open(\"time_results.pickle\", \"wb\"))\n",
    "\n"
   ]
  },
  {
   "cell_type": "code",
   "execution_count": 10,
   "metadata": {},
   "outputs": [
    {
     "data": {
      "image/png": "[encoded data removed]",
      "text/plain": [
       "<Figure size 432x288 with 1 Axes>"
      ]
     },
     "metadata": {
      "needs_background": "light"
     },
     "output_type": "display_data"
    }
   ],
   "source": [
    "import pickle\n",
    "import matplotlib.pyplot as plt\n",
    "\n",
    "# 時間の結果保存するときにキーにnを入れるの忘れてた。。。\n",
    "y_data = pickle.load(open(\"time_results.pickle\", \"rb\"))\n",
    "x_data = [1, 2, 4, 8, 16, 32, 64, 128, 256, 512, 1024]\n",
    "\n",
    "plt.scatter(x_data, y_data)\n",
    "plt.ylabel('time')\n",
    "plt.xlabel('n')\n",
    "plt.show()\n",
    "\n"
   ]
  },
  {
   "cell_type": "code",
   "execution_count": 14,
   "metadata": {},
   "outputs": [
    {
     "name": "stdout",
     "output_type": "stream",
     "text": [
      "time: 0.000001 sec\n",
      "time: 0.000025 sec\n",
      "time: 0.000089 sec\n",
      "time: 0.000405 sec\n",
      "time: 0.000696 sec\n",
      "time: 0.001053 sec\n",
      "time: 0.002587 sec\n",
      "time: 0.002392 sec\n",
      "time: 0.004130 sec\n",
      "time: 0.005634 sec\n",
      "time: 0.011340 sec\n"
     ]
    }
   ],
   "source": [
    "import numpy, sys, time\n",
    "import pickle\n",
    "\n",
    "def timeToCalculate(n):\n",
    "    a = numpy.zeros((n, n)) # Matrix A\n",
    "    b = numpy.zeros((n, n)) # Matrix B\n",
    "    c = numpy.zeros((n, n)) # Matrix C\n",
    "\n",
    "    # Initialize the matrices to some values.\n",
    "    for i in range(n):\n",
    "        for j in range(n):\n",
    "            a[i, j] = i * n + j\n",
    "            b[i, j] = j * n + i\n",
    "            c[i, j] = 0\n",
    "\n",
    "    begin = time.time()\n",
    "\n",
    "    ######################################################\n",
    "    # Write code to calculate C = A * B                  #\n",
    "    # (without using numpy librarlies e.g., numpy.dot()) #\n",
    "    for i in range(n):\n",
    "        for j in range(n):\n",
    "            c[i][j] = 0\n",
    "            for k in range(n):\n",
    "                c[i][j] +=  a[i][k]*b[k][j]\n",
    "    ######################################################\n",
    "\n",
    "    end = time.time()\n",
    "    print(\"time: %.6f sec\" % (end - begin))\n",
    "    return (end - begin)\n",
    "\n",
    "    # Print C for debugging. Comment out the print before measuring the execution time.\n",
    "#     total = 0\n",
    "#     for i in range(n):\n",
    "#         for j in range(n):\n",
    "#             # print c[i, j]\n",
    "#             total += c[i, j]\n",
    "    # Print out the sum of all values in C.\n",
    "    # This should be 450 for N=3, 3680 for N=4, and 18250 for N=5.\n",
    "#     print(\"sum: %.6f\" % total)\n",
    "\n",
    "# 2x ( 0<=x<=10)のサイズの行列を計算\n",
    "results = []\n",
    "for i in range(11):\n",
    "    t = timeToCalculate(2*i)\n",
    "    results.append(t)\n",
    "\n",
    "pickle.dump(results, open(\"time_results_2.pickle\", \"wb\"))\n",
    "\n"
   ]
  },
  {
   "cell_type": "code",
   "execution_count": 15,
   "metadata": {},
   "outputs": [
    {
     "data": {
      "image/png": "[encoded data removed]",
      "text/plain": [
       "<Figure size 432x288 with 1 Axes>"
      ]
     },
     "metadata": {
      "needs_background": "light"
     },
     "output_type": "display_data"
    }
   ],
   "source": [
    "import pickle\n",
    "import matplotlib.pyplot as plt\n",
    "\n",
    "y_data = pickle.load(open(\"time_results_2.pickle\", \"rb\"))\n",
    "x_data = [0, 2, 4, 6, 8, 10, 12, 14, 16, 18, 20]\n",
    "\n",
    "plt.scatter(x_data, y_data)\n",
    "plt.ylabel('time')\n",
    "plt.xlabel('n')\n",
    "plt.show()"
   ]
  },
  {
   "cell_type": "code",
   "execution_count": null,
   "metadata": {},
   "outputs": [],
   "source": []
  }
 ],
 "metadata": {
  "kernelspec": {
   "display_name": "Python 3",
   "language": "python",
   "name": "python3"
  },
  "language_info": {
   "codemirror_mode": {
    "name": "ipython",
    "version": 3
   },
   "file_extension": ".py",
   "mimetype": "text/x-python",
   "name": "python",
   "nbconvert_exporter": "python",
   "pygments_lexer": "ipython3",
   "version": "3.7.3"
  }
 },
 "nbformat": 4,
 "nbformat_minor": 2
}
